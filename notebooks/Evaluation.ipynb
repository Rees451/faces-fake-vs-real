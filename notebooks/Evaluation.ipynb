{
 "cells": [
  {
   "cell_type": "markdown",
   "metadata": {
    "Collapsed": "false"
   },
   "source": [
    "## Evaluation of trained models"
   ]
  },
  {
   "cell_type": "code",
   "execution_count": 191,
   "metadata": {
    "Collapsed": "false",
    "ExecuteTime": {
     "end_time": "2019-12-15T13:32:24.304458Z",
     "start_time": "2019-12-15T13:32:24.299682Z"
    }
   },
   "outputs": [],
   "source": [
    "import sys\n",
    "data_dir = '../data'\n",
    "src_path = '../src'\n",
    "test_dir = '../data/processed/sf/all/test'\n",
    "if src_path not in sys.path:\n",
    "    sys.path.append(src_path)"
   ]
  },
  {
   "cell_type": "code",
   "execution_count": 192,
   "metadata": {
    "Collapsed": "false",
    "ExecuteTime": {
     "end_time": "2019-12-15T13:32:30.377463Z",
     "start_time": "2019-12-15T13:32:25.666657Z"
    }
   },
   "outputs": [
    {
     "data": {
      "text/plain": [
       "<module 'loading' from '../src/loading.py'>"
      ]
     },
     "execution_count": 192,
     "metadata": {},
     "output_type": "execute_result"
    }
   ],
   "source": [
    "import loading as ld\n",
    "import trained_model as tm\n",
    "import importlib\n",
    "importlib.reload(tm)\n",
    "importlib.reload(ld)"
   ]
  },
  {
   "cell_type": "code",
   "execution_count": 193,
   "metadata": {
    "Collapsed": "false"
   },
   "outputs": [
    {
     "name": "stdout",
     "output_type": "stream",
     "text": [
      "Found 205 images belonging to 2 classes.\n"
     ]
    }
   ],
   "source": [
    "test = ld.load_test_generator(test_dir, img_shape=(128, 128, 3))"
   ]
  },
  {
   "cell_type": "markdown",
   "metadata": {
    "Collapsed": "false"
   },
   "source": [
    "## Models"
   ]
  },
  {
   "cell_type": "markdown",
   "metadata": {
    "Collapsed": "false"
   },
   "source": [
    "I wrote the class `TrainedModel` to load tensorflow models from the weights caluclated when training, view the source code [here](../src/trained_model)"
   ]
  },
  {
   "cell_type": "code",
   "execution_count": 194,
   "metadata": {
    "Collapsed": "false"
   },
   "outputs": [],
   "source": [
    "model_dir = '../models/gs_results'\n",
    "model_id = 'best_c1_gs'"
   ]
  },
  {
   "cell_type": "code",
   "execution_count": 195,
   "metadata": {
    "Collapsed": "false",
    "ExecuteTime": {
     "end_time": "2019-12-15T13:32:55.324978Z",
     "start_time": "2019-12-15T13:32:53.771725Z"
    }
   },
   "outputs": [],
   "source": [
    "clf = tm.TrainedModel(model_dir, model_id)"
   ]
  },
  {
   "cell_type": "code",
   "execution_count": 189,
   "metadata": {
    "Collapsed": "false"
   },
   "outputs": [
    {
     "name": "stdout",
     "output_type": "stream",
     "text": [
      "Model: \"conv_1\"\n",
      "_________________________________________________________________\n",
      "Layer (type)                 Output Shape              Param #   \n",
      "=================================================================\n",
      "input (InputLayer)           [(None, 128, 128, 3)]     0         \n",
      "_________________________________________________________________\n",
      "conv_0 (Conv2D)              (None, 128, 128, 16)      448       \n",
      "_________________________________________________________________\n",
      "pool_0 (MaxPooling2D)        (None, 64, 64, 16)        0         \n",
      "_________________________________________________________________\n",
      "norm_0 (BatchNormalization)  (None, 64, 64, 16)        64        \n",
      "_________________________________________________________________\n",
      "conv_1 (Conv2D)              (None, 64, 64, 16)        2320      \n",
      "_________________________________________________________________\n",
      "pool_1 (MaxPooling2D)        (None, 32, 32, 16)        0         \n",
      "_________________________________________________________________\n",
      "norm_1 (BatchNormalization)  (None, 32, 32, 16)        64        \n",
      "_________________________________________________________________\n",
      "conv_2 (Conv2D)              (None, 32, 32, 16)        2320      \n",
      "_________________________________________________________________\n",
      "pool_2 (MaxPooling2D)        (None, 16, 16, 16)        0         \n",
      "_________________________________________________________________\n",
      "norm_2 (BatchNormalization)  (None, 16, 16, 16)        64        \n",
      "_________________________________________________________________\n",
      "output_flatten (Flatten)     (None, 4096)              0         \n",
      "_________________________________________________________________\n",
      "output (Dense)               (None, 2)                 8194      \n",
      "=================================================================\n",
      "Total params: 13,474\n",
      "Trainable params: 13,378\n",
      "Non-trainable params: 96\n",
      "_________________________________________________________________\n"
     ]
    }
   ],
   "source": [
    "clf.model.summary()"
   ]
  },
  {
   "cell_type": "code",
   "execution_count": 190,
   "metadata": {
    "Collapsed": "false",
    "ExecuteTime": {
     "end_time": "2019-12-15T13:35:47.615309Z",
     "start_time": "2019-12-15T13:35:46.761296Z"
    }
   },
   "outputs": [
    {
     "name": "stdout",
     "output_type": "stream",
     "text": [
      "              precision    recall  f1-score   support\n",
      "\n",
      "        real       0.61      0.65      0.63       109\n",
      "        fake       0.57      0.53      0.55        96\n",
      "\n",
      "    accuracy                           0.60       205\n",
      "   macro avg       0.59      0.59      0.59       205\n",
      "weighted avg       0.59      0.60      0.59       205\n",
      "\n"
     ]
    },
    {
     "data": {
      "text/html": [
       "<div>\n",
       "<style scoped>\n",
       "    .dataframe tbody tr th:only-of-type {\n",
       "        vertical-align: middle;\n",
       "    }\n",
       "\n",
       "    .dataframe tbody tr th {\n",
       "        vertical-align: top;\n",
       "    }\n",
       "\n",
       "    .dataframe thead th {\n",
       "        text-align: right;\n",
       "    }\n",
       "</style>\n",
       "<table border=\"1\" class=\"dataframe\">\n",
       "  <thead>\n",
       "    <tr style=\"text-align: right;\">\n",
       "      <th></th>\n",
       "      <th>Predicted Fake</th>\n",
       "      <th>Predicted Real</th>\n",
       "    </tr>\n",
       "  </thead>\n",
       "  <tbody>\n",
       "    <tr>\n",
       "      <th>Actual Fake</th>\n",
       "      <td>71</td>\n",
       "      <td>38</td>\n",
       "    </tr>\n",
       "    <tr>\n",
       "      <th>Actual Real</th>\n",
       "      <td>45</td>\n",
       "      <td>51</td>\n",
       "    </tr>\n",
       "  </tbody>\n",
       "</table>\n",
       "</div>"
      ],
      "text/plain": [
       "             Predicted Fake   Predicted Real\n",
       "Actual Fake              71               38\n",
       "Actual Real              45               51"
      ]
     },
     "execution_count": 190,
     "metadata": {},
     "output_type": "execute_result"
    },
    {
     "data": {
      "image/png": "[encoded data removed]",
      "text/plain": [
       "<Figure size 720x432 with 1 Axes>"
      ]
     },
     "metadata": {
      "needs_background": "light"
     },
     "output_type": "display_data"
    }
   ],
   "source": [
    "clf.plot_training()\n",
    "clf.classification_report(test)\n",
    "clf.conf_matrix(test)"
   ]
  },
  {
   "cell_type": "markdown",
   "metadata": {
    "Collapsed": "false"
   },
   "source": [
    "I created some functinoality within the trained model class to test the model. This works by showing the model 2 pictures and asking it which one is the fake one. The score is given by how many the model gets correct. In this way the underlying frequency of fake/real images is not important."
   ]
  },
  {
   "cell_type": "code",
   "execution_count": 124,
   "metadata": {
    "Collapsed": "false",
    "ExecuteTime": {
     "end_time": "2019-12-15T13:35:47.615309Z",
     "start_time": "2019-12-15T13:35:46.761296Z"
    }
   },
   "outputs": [
    {
     "name": "stdout",
     "output_type": "stream",
     "text": [
      "easy score 0.556\n",
      "medium score 0.628\n",
      "hard score 0.584\n"
     ]
    }
   ],
   "source": [
    "easy_score = clf.test_on_difficulty(test_dir, dif='easy', tests=500)\n",
    "medium_score = clf.test_on_difficulty(test_dir, dif='mid', tests=500)\n",
    "hard_score = clf.test_on_difficulty(test_dir, dif='hard', tests=500)\n",
    "\n",
    "print('easy score', easy_score)\n",
    "print('medium score', medium_score)\n",
    "print('hard score', hard_score)"
   ]
  }
 ],
 "metadata": {
  "kernelspec": {
   "display_name": "capstone",
   "language": "python",
   "name": "capstone"
  },
  "language_info": {
   "codemirror_mode": {
    "name": "ipython",
    "version": 3
   },
   "file_extension": ".py",
   "mimetype": "text/x-python",
   "name": "python",
   "nbconvert_exporter": "python",
   "pygments_lexer": "ipython3",
   "version": "3.7.4"
  },
  "toc": {
   "base_numbering": 1,
   "nav_menu": {},
   "number_sections": true,
   "sideBar": true,
   "skip_h1_title": true,
   "title_cell": "Table of Contents",
   "title_sidebar": "Contents",
   "toc_cell": false,
   "toc_position": {},
   "toc_section_display": true,
   "toc_window_display": true
  },
  "toc-showmarkdowntxt": false,
  "varInspector": {
   "cols": {
    "lenName": 16,
    "lenType": 16,
    "lenVar": 40
   },
   "kernels_config": {
    "python": {
     "delete_cmd_postfix": "",
     "delete_cmd_prefix": "del ",
     "library": "var_list.py",
     "varRefreshCmd": "print(var_dic_list())"
    },
    "r": {
     "delete_cmd_postfix": ") ",
     "delete_cmd_prefix": "rm(",
     "library": "var_list.r",
     "varRefreshCmd": "cat(var_dic_list()) "
    }
   },
   "types_to_exclude": [
    "module",
    "function",
    "builtin_function_or_method",
    "instance",
    "_Feature"
   ],
   "window_display": false
  }
 },
 "nbformat": 4,
 "nbformat_minor": 4
}
